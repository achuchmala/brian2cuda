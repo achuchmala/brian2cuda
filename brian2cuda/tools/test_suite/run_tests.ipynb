{
 "cells": [
  {
   "cell_type": "markdown",
   "id": "173851c6",
   "metadata": {},
   "source": [
    "# Run Brian2CUDA test suite\n",
    "\n",
    "Minimal notebook to run tests against latest version of Brian2CUDA from github. Meant to be run on Google Collab with a GPU"
   ]
  },
  {
   "cell_type": "code",
   "execution_count": null,
   "id": "3bca2f17",
   "metadata": {},
   "outputs": [],
   "source": [
    "%pip install git+https://github.com/brian-team/brian2cuda.git"
   ]
  },
  {
   "cell_type": "code",
   "execution_count": null,
   "id": "a80015a2",
   "metadata": {},
   "outputs": [],
   "source": [
    "import brian2cuda\n",
    "brian2cuda.test()"
   ]
  }
 ],
 "metadata": {
  "kernelspec": {
   "display_name": "Python 3 (brian2cuda)",
   "language": "python",
   "name": "brian2cuda"
  },
  "language_info": {
   "codemirror_mode": {
    "name": "ipython",
    "version": 3
   },
   "file_extension": ".py",
   "mimetype": "text/x-python",
   "name": "python",
   "nbconvert_exporter": "python",
   "pygments_lexer": "ipython3",
   "version": "3.9.12"
  }
 },
 "nbformat": 4,
 "nbformat_minor": 5
}
